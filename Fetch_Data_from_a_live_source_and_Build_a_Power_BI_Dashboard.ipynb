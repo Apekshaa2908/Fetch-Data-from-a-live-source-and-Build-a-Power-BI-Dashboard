{
  "nbformat": 4,
  "nbformat_minor": 0,
  "metadata": {
    "colab": {
      "provenance": [],
      "authorship_tag": "ABX9TyNzJktNR9/nNLxkoHGG1UTQ",
      "include_colab_link": true
    },
    "kernelspec": {
      "name": "python3",
      "display_name": "Python 3"
    },
    "language_info": {
      "name": "python"
    }
  },
  "cells": [
    {
      "cell_type": "markdown",
      "metadata": {
        "id": "view-in-github",
        "colab_type": "text"
      },
      "source": [
        "<a href=\"https://colab.research.google.com/github/Apekshaa2908/Fetch-Data-from-a-live-source-and-Build-a-Power-BI-Dashboard/blob/main/Fetch_Data_from_a_live_source_and_Build_a_Power_BI_Dashboard.ipynb\" target=\"_parent\"><img src=\"https://colab.research.google.com/assets/colab-badge.svg\" alt=\"Open In Colab\"/></a>"
      ]
    },
    {
      "cell_type": "code",
      "source": [
        "import pandas as pd\n",
        "\n",
        "# Original URL\n",
        "url = \"https://github.com/LokeshKumarChauhan/DE_with_powerBI/blob/main/Walmart.csv\"\n",
        "\n",
        "# Modify the URL to get the raw file\n",
        "raw_url = url.replace(\"github.com\", \"raw.githubusercontent.com\").replace(\"/blob/\", \"/\")\n",
        "\n",
        "# Read the CSV file from the modified URL\n",
        "df = pd.read_csv(raw_url)\n",
        "\n",
        "# Replace hyphens with slashes in date columns\n",
        "df['Order Date'] = df['Order Date'].str.replace('-', '/')\n",
        "df['Ship Date'] = df['Ship Date'].str.replace('-', '/')\n",
        "\n",
        "# Convert the columns to datetime\n",
        "df['Order Date'] = pd.to_datetime(df['Order Date'], format='%d/%m/%Y', errors='coerce')\n",
        "df['Ship Date'] = pd.to_datetime(df['Ship Date'], format='%d/%m/%Y', errors='coerce')\n",
        "\n",
        "print(df)"
      ],
      "metadata": {
        "id": "A16ENLjKphqp",
        "colab": {
          "base_uri": "https://localhost:8080/"
        },
        "outputId": "2c5637a3-4454-4fc9-bed9-911271e42ca3"
      },
      "execution_count": 11,
      "outputs": [
        {
          "output_type": "stream",
          "name": "stdout",
          "text": [
            "      Row ID        Order ID Order Date  Ship Date       Ship Mode  \\\n",
            "0          3  CA-2013-138688 2013-06-13 2013-06-17    Second Class   \n",
            "1          6  CA-2011-115812 2011-06-09 2011-06-14  Standard Class   \n",
            "2          7  CA-2011-115812 2011-06-09 2011-06-14  Standard Class   \n",
            "3          8  CA-2011-115812 2011-06-09 2011-06-14  Standard Class   \n",
            "4          9  CA-2011-115812 2011-06-09 2011-06-14  Standard Class   \n",
            "...      ...             ...        ...        ...             ...   \n",
            "3198    9987  CA-2013-125794 2013-09-30 2013-10-04  Standard Class   \n",
            "3199    9991  CA-2014-121258 2014-02-27 2014-03-04  Standard Class   \n",
            "3200    9992  CA-2014-121258 2014-02-27 2014-03-04  Standard Class   \n",
            "3201    9993  CA-2014-121258 2014-02-27 2014-03-04  Standard Class   \n",
            "3202    9994  CA-2014-119914 2014-05-05 2014-05-10    Second Class   \n",
            "\n",
            "     Customer ID    Customer Name    Segment        Country         City  ...  \\\n",
            "0       DV-13045  Darrin Van Huff  Corporate  United States  Los Angeles  ...   \n",
            "1       BH-11710  Brosina Hoffman   Consumer  United States  Los Angeles  ...   \n",
            "2       BH-11710  Brosina Hoffman   Consumer  United States  Los Angeles  ...   \n",
            "3       BH-11710  Brosina Hoffman   Consumer  United States  Los Angeles  ...   \n",
            "4       BH-11710  Brosina Hoffman   Consumer  United States  Los Angeles  ...   \n",
            "...          ...              ...        ...            ...          ...  ...   \n",
            "3198    ML-17410     Maris LaWare   Consumer  United States  Los Angeles  ...   \n",
            "3199    DB-13060      Dave Brooks   Consumer  United States   Costa Mesa  ...   \n",
            "3200    DB-13060      Dave Brooks   Consumer  United States   Costa Mesa  ...   \n",
            "3201    DB-13060      Dave Brooks   Consumer  United States   Costa Mesa  ...   \n",
            "3202    CC-12220     Chris Cortes   Consumer  United States  Westminster  ...   \n",
            "\n",
            "     Postal Code  Region       Product ID         Category Sub-Category  \\\n",
            "0          90036    West  OFF-LA-10000240  Office Supplies       Labels   \n",
            "1          90032    West  FUR-FU-10001487        Furniture  Furnishings   \n",
            "2          90032    West  OFF-AR-10002833  Office Supplies          Art   \n",
            "3          90032    West  TEC-PH-10002275       Technology       Phones   \n",
            "4          90032    West  OFF-BI-10003910  Office Supplies      Binders   \n",
            "...          ...     ...              ...              ...          ...   \n",
            "3198       90008    West  TEC-AC-10003399       Technology  Accessories   \n",
            "3199       92627    West  FUR-FU-10000747        Furniture  Furnishings   \n",
            "3200       92627    West  TEC-PH-10003645       Technology       Phones   \n",
            "3201       92627    West  OFF-PA-10004041  Office Supplies        Paper   \n",
            "3202       92683    West  OFF-AP-10002684  Office Supplies   Appliances   \n",
            "\n",
            "                                           Product Name    Sales  Quantity  \\\n",
            "0     Self-Adhesive Address Labels for Typewriters b...   14.620         2   \n",
            "1     Eldon Expressions Wood and Plastic Desk Access...   48.860         7   \n",
            "2                                            Newell 322    7.280         4   \n",
            "3                        Mitel 5320 IP Phone VoIP phone  907.152         6   \n",
            "4     DXL Angle-View Binders with Locking Rings by S...   18.504         3   \n",
            "...                                                 ...      ...       ...   \n",
            "3198  Memorex Mini Travel Drive 64 GB USB 2.0 Flash ...   36.240         1   \n",
            "3199  Tenex B1-RE Series Chair Mats for Low Pile Car...   91.960         2   \n",
            "3200                              Aastra 57i VoIP phone  258.576         2   \n",
            "3201  It's Hot Message Books with Stickers, 2 3/4\" x 5\"   29.600         4   \n",
            "3202  Acco 7-Outlet Masterpiece Power Center, Wihtou...  243.160         2   \n",
            "\n",
            "      Discount   Profit  \n",
            "0          0.0   6.8714  \n",
            "1          0.0  14.1694  \n",
            "2          0.0   1.9656  \n",
            "3          0.2  90.7152  \n",
            "4          0.2   5.7825  \n",
            "...        ...      ...  \n",
            "3198       0.0  15.2208  \n",
            "3199       0.0  15.6332  \n",
            "3200       0.2  19.3932  \n",
            "3201       0.0  13.3200  \n",
            "3202       0.0  72.9480  \n",
            "\n",
            "[3203 rows x 21 columns]\n"
          ]
        }
      ]
    },
    {
      "cell_type": "code",
      "source": [
        "df.to_csv('output.csv', index=False)"
      ],
      "metadata": {
        "id": "af78fxJx4os8"
      },
      "execution_count": 8,
      "outputs": []
    },
    {
      "cell_type": "code",
      "source": [
        "# Power BI Link/\n",
        "https://app.powerbi.com/groups/me/rep"
      ],
      "metadata": {
        "id": "AbeVkJGd_C85"
      },
      "execution_count": null,
      "outputs": []
    }
  ]
}